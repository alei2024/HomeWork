{
 "cells": [
  {
   "cell_type": "markdown",
   "metadata": {},
   "source": [
    "0. 所有的题目结果中，给出SQL语句和执行结果。"
   ]
  },
  {
   "cell_type": "markdown",
   "metadata": {},
   "source": [
    "1. 在新数据库中新建一张 user 表,插入几条数据,属性包含:唯一标识(id),姓名(name)性别(sex).年龄(age).联系方式(phone)，数据如下：\n",
    "\n",
    "    ('John Doe', 'Male', 25, '123-456-7890')\n",
    "\n",
    "    ('Jane Smith', 'Female', 31, '987-654-3210')\n",
    "    \n",
    "    ('Bob Johnson', 'Male', 22, '555-123-4567')"
   ]
  },
  {
   "cell_type": "code",
   "execution_count": 5,
   "metadata": {},
   "outputs": [],
   "source": [
    "import pymysql\n",
    "   # 建立连接\n",
    "connection = pymysql.connect(\n",
    "    host='localhost',  # 主机地址，本地通常为localhost\n",
    "    user='root',       # 用户名\n",
    "    password='Tp123123',  # 密码\n",
    "    database='user'   # 数据库名称\n",
    ")"
   ]
  },
  {
   "cell_type": "code",
   "execution_count": 45,
   "metadata": {},
   "outputs": [
    {
     "name": "stdout",
     "output_type": "stream",
     "text": [
      "所有表已成功删除。\n"
     ]
    }
   ],
   "source": [
    "#删除表格\n",
    "try:\n",
    "    cursor = connection.cursor()\n",
    "    # 获取数据库中的所有表名\n",
    "    cursor.execute(\"SHOW TABLES\")\n",
    "    tables = cursor.fetchall()\n",
    "    for table in tables:\n",
    "        table_name = table[0]\n",
    "        # 删除表的 SQL 语句\n",
    "        drop_table_sql = f\"DROP TABLE {table_name}\"\n",
    "        cursor.execute(drop_table_sql)\n",
    "    connection.commit()\n",
    "    print(\"所有表已成功删除。\")\n",
    "except Exception as e:\n",
    "    connection.rollback()\n",
    "    print(f\"发生错误：{e}\")"
   ]
  },
  {
   "cell_type": "code",
   "execution_count": 46,
   "metadata": {},
   "outputs": [],
   "source": [
    "#创建游标\n",
    "cursor = connection.cursor()\n",
    "#创建表\n",
    "create_table_query = \"\"\"\n",
    "CREATE TABLE user (\n",
    "   id INT AUTO_INCREMENT PRIMARY KEY,\n",
    "   name VARCHAR(255) NOT NULL,\n",
    "   sex ENUM('Male', 'Female') NOT NULL,\n",
    "   age INT NOT NULL,\n",
    "   phone VARCHAR(20) NOT NULL\n",
    ")\n",
    "\"\"\"\n",
    "cursor.execute(create_table_query)\n",
    "#插入数据\n",
    "insert_data_query = \"\"\"\n",
    "INSERT INTO user (name, sex, age, phone) VALUES\n",
    "   (%s, %s, %s, %s)\n",
    "\"\"\"\n",
    "data = [\n",
    "   ('John Doe', 'Male', 25, '123-456-7890'),\n",
    "   ('Jane Smith', 'Female', 31, '987-654-3210'),\n",
    "   ('Bob Johnson', 'Male', 22, '555-123-4567')\n",
    "]\n",
    "\n",
    "cursor.executemany(insert_data_query, data)\n",
    "connection.commit()"
   ]
  },
  {
   "cell_type": "code",
   "execution_count": 47,
   "metadata": {},
   "outputs": [
    {
     "name": "stdout",
     "output_type": "stream",
     "text": [
      "(1, 'John Doe', 'Male', 25, '123-456-7890')\n",
      "(2, 'Jane Smith', 'Female', 31, '987-654-3210')\n",
      "(3, 'Bob Johnson', 'Male', 22, '555-123-4567')\n"
     ]
    }
   ],
   "source": [
    "#查询全部数据\n",
    "select_query = \"SELECT * FROM user\"\n",
    "cursor.execute(select_query)\n",
    "results = cursor.fetchall()\n",
    "for row in results:\n",
    "   print(row)"
   ]
  },
  {
   "cell_type": "markdown",
   "metadata": {},
   "source": [
    "2. 写出 SQL语句,查询 user 表中所有年龄在 20-30 范围内的用户"
   ]
  },
  {
   "cell_type": "code",
   "execution_count": 19,
   "metadata": {},
   "outputs": [
    {
     "name": "stdout",
     "output_type": "stream",
     "text": [
      "(1, 'John Doe', 'Male', 25, '123-456-7890')\n",
      "(3, 'Bob Johnson', 'Male', 22, '555-123-4567')\n"
     ]
    }
   ],
   "source": [
    "sql=\"\"\"\n",
    "SELECT *\n",
    "FROM user\n",
    "Where age>=20 AND age<=30\n",
    "\"\"\"\n",
    "cursor.execute(sql)\n",
    "results = cursor.fetchall()\n",
    "for row in results:\n",
    "   print(row)"
   ]
  },
  {
   "cell_type": "markdown",
   "metadata": {},
   "source": [
    "3. 写出SQL语句，向user表中添加自己的个人信息，并添加几条和你姓名同姓的虚拟信息。"
   ]
  },
  {
   "cell_type": "code",
   "execution_count": 48,
   "metadata": {},
   "outputs": [
    {
     "name": "stdout",
     "output_type": "stream",
     "text": [
      "(1, 'John Doe', 'Male', 25, '123-456-7890')\n",
      "(2, 'Jane Smith', 'Female', 31, '987-654-3210')\n",
      "(3, 'Bob Johnson', 'Male', 22, '555-123-4567')\n",
      "(4, 'Han Yue', 'Female', 20, '12312345678')\n"
     ]
    }
   ],
   "source": [
    "sql=\"\"\"\n",
    "   INSERT INTO user (name, sex, age, phone)\n",
    "   VALUES ('Han Yue', 'Female', 20, '12312345678');\n",
    "\"\"\"\n",
    "cursor.execute(sql)\n",
    "#输出全部数据\n",
    "select_query = \"SELECT * FROM user\"\n",
    "cursor.execute(select_query)\n",
    "results = cursor.fetchall()\n",
    "for row in results:\n",
    "   print(row)"
   ]
  },
  {
   "cell_type": "code",
   "execution_count": 49,
   "metadata": {},
   "outputs": [],
   "source": [
    "#插入数据\n",
    "insert_data_query = \"\"\"\n",
    "INSERT INTO user (name, sex, age, phone) VALUES\n",
    "   (%s, %s, %s, %s)\n",
    "\"\"\"\n",
    "data = [\n",
    "   ('Han Yue', 'Male', 15, '123-456-7890'),\n",
    "   ('Han Yue', 'Female', 18, '137-654-3210'),\n",
    "   ('Han Yue', 'Male', 22, '195-123-4567')\n",
    "]\n",
    "\n",
    "cursor.executemany(insert_data_query, data)\n",
    "connection.commit()"
   ]
  },
  {
   "cell_type": "code",
   "execution_count": 22,
   "metadata": {},
   "outputs": [
    {
     "name": "stdout",
     "output_type": "stream",
     "text": [
      "(1, 'John Doe', 'Male', 25, '123-456-7890')\n",
      "(2, 'Jane Smith', 'Female', 31, '987-654-3210')\n",
      "(3, 'Bob Johnson', 'Male', 22, '555-123-4567')\n",
      "(4, 'Han Yue', 'Female', 20, '12312345678')\n",
      "(5, 'HanYue', 'Male', 15, '123-456-7890')\n",
      "(6, 'HanYue', 'Female', 18, '137-654-3210')\n",
      "(7, 'HanYue', 'Male', 22, '195-123-4567')\n"
     ]
    }
   ],
   "source": [
    "#查询当前数据库的全部数据\n",
    "sql=\"\"\"\n",
    "SELECT *\n",
    "FROM user\n",
    "\"\"\"\n",
    "cursor.execute(sql)\n",
    "results = cursor.fetchall()\n",
    "for row in results:\n",
    "   print(row)"
   ]
  },
  {
   "cell_type": "markdown",
   "metadata": {},
   "source": [
    "4. 写出 SQL语句,查询 user 表中年龄在 20-30 范围内,名字包含“你的姓氏”的用户,并按照年龄从大到小排序输出"
   ]
  },
  {
   "cell_type": "code",
   "execution_count": 25,
   "metadata": {},
   "outputs": [
    {
     "name": "stdout",
     "output_type": "stream",
     "text": [
      "(7, 'HanYue', 'Male', 22, '195-123-4567')\n",
      "(4, 'Han Yue', 'Female', 20, '12312345678')\n"
     ]
    }
   ],
   "source": [
    "sql='''\n",
    "SELECT *\n",
    "From user\n",
    "Where user.name LIKE '%Han%'  AND age Between 20 AND 30\n",
    "Order By age desc\n",
    "'''\n",
    "cursor.execute(sql)\n",
    "results = cursor.fetchall()\n",
    "for row in results:\n",
    "   print(row)"
   ]
  },
  {
   "cell_type": "markdown",
   "metadata": {},
   "source": [
    "5. 写出 SQL 语句,计算 user 表中所有用户的平均年龄"
   ]
  },
  {
   "cell_type": "code",
   "execution_count": 35,
   "metadata": {},
   "outputs": [
    {
     "name": "stdout",
     "output_type": "stream",
     "text": [
      "(Decimal('21.8571'),)\n"
     ]
    }
   ],
   "source": [
    "sql ='''\n",
    "Select avg(age)\n",
    "From user;\n",
    "'''\n",
    "cursor.execute(sql)\n",
    "results= cursor.fetchall()\n",
    "for row in results:\n",
    "    print(row)"
   ]
  },
  {
   "cell_type": "markdown",
   "metadata": {},
   "source": [
    "6. 新建两张表team 表(id,teamName)和score 表(id,teamid,userid,score)。其中score 表中的 teamid 为指向 team表id 的外键，userid 为指向 user表id的外键"
   ]
  },
  {
   "cell_type": "code",
   "execution_count": 50,
   "metadata": {},
   "outputs": [
    {
     "data": {
      "text/plain": [
       "0"
      ]
     },
     "execution_count": 50,
     "metadata": {},
     "output_type": "execute_result"
    }
   ],
   "source": [
    "sql1 = \"\"\"\n",
    "CREATE TABLE team (\n",
    "    id INT PRIMARY KEY AUTO_INCREMENT,\n",
    "    teamName VARCHAR(255)\n",
    ");\n",
    "\"\"\"\n",
    "sql2='''\n",
    "CREATE TABLE score (\n",
    "    id INT PRIMARY KEY AUTO_INCREMENT,\n",
    "    teamid INT,\n",
    "    userid INT,\n",
    "    score INT,\n",
    "    FOREIGN KEY (teamid) REFERENCES team(id),\n",
    "    FOREIGN KEY (userid) REFERENCES user(id)\n",
    ");\n",
    "'''\n",
    "cursor.execute(sql1)\n",
    "cursor.execute(sql2)"
   ]
  },
  {
   "cell_type": "code",
   "execution_count": 38,
   "metadata": {},
   "outputs": [
    {
     "name": "stdout",
     "output_type": "stream",
     "text": [
      "score\n",
      "team\n",
      "user\n"
     ]
    }
   ],
   "source": [
    "cursor.execute(\"SHOW TABLES\")\n",
    "tables = cursor.fetchall()\n",
    "for table in tables:\n",
    "    table_name = table[0]\n",
    "    print(table_name)"
   ]
  },
  {
   "cell_type": "markdown",
   "metadata": {},
   "source": [
    "7. 在team表中和score表中插入合适的记录，写出 SQL语句,查询 teamName 为“ECNU”的队伍中，年龄小于 20 的用户们，结果不得为空。"
   ]
  },
  {
   "cell_type": "code",
   "execution_count": 51,
   "metadata": {},
   "outputs": [
    {
     "data": {
      "text/plain": [
       "4"
      ]
     },
     "execution_count": 51,
     "metadata": {},
     "output_type": "execute_result"
    }
   ],
   "source": [
    "sql1='''\n",
    "Insert into team (teamName) Values\n",
    "(%s)\n",
    "'''\n",
    "data1=[\n",
    "    (\"ECNU\"),\n",
    "    (\"开心鸭\"),\n",
    "    (\"Go\"),\n",
    "    (\"Yeah\")\n",
    "]\n",
    "\n",
    "cursor.executemany(sql1,data1)"
   ]
  },
  {
   "cell_type": "code",
   "execution_count": 52,
   "metadata": {},
   "outputs": [
    {
     "data": {
      "text/plain": [
       "4"
      ]
     },
     "execution_count": 52,
     "metadata": {},
     "output_type": "execute_result"
    }
   ],
   "source": [
    "sql2='''\n",
    "Insert into score (teamid,userid,score) Values\n",
    "(%s,%s,%s)\n",
    "'''\n",
    "data2=[\n",
    "    (1,1,80),\n",
    "    (2,2,75),\n",
    "    (3,3,68),\n",
    "    (4,4,92)\n",
    "]\n",
    "cursor.executemany(sql2,data2)"
   ]
  },
  {
   "cell_type": "code",
   "execution_count": 53,
   "metadata": {},
   "outputs": [
    {
     "name": "stdout",
     "output_type": "stream",
     "text": [
      "(1, 'ECNU')\n",
      "(2, '开心鸭')\n",
      "(3, 'Go')\n",
      "(4, 'Yeah')\n"
     ]
    }
   ],
   "source": [
    "sql ='''\n",
    "Select *\n",
    "From team;\n",
    "'''\n",
    "cursor.execute(sql)\n",
    "results= cursor.fetchall()\n",
    "for row in results:\n",
    "    print(row)"
   ]
  },
  {
   "cell_type": "code",
   "execution_count": 54,
   "metadata": {},
   "outputs": [
    {
     "name": "stdout",
     "output_type": "stream",
     "text": [
      "(1, 1, 1, 80)\n",
      "(2, 2, 2, 75)\n",
      "(3, 3, 3, 68)\n",
      "(4, 4, 4, 92)\n"
     ]
    }
   ],
   "source": [
    "sql ='''\n",
    "Select *\n",
    "From score;\n",
    "'''\n",
    "cursor.execute(sql)\n",
    "results= cursor.fetchall()\n",
    "for row in results:\n",
    "    print(row)"
   ]
  },
  {
   "cell_type": "markdown",
   "metadata": {},
   "source": [
    "8. 写出 SQL 语句,计算 teamName为“ECNU”的总分(假设 score 存在 null值,nul值默认为 0 加入计算)。"
   ]
  },
  {
   "cell_type": "code",
   "execution_count": 55,
   "metadata": {},
   "outputs": [
    {
     "data": {
      "text/plain": [
       "3"
      ]
     },
     "execution_count": 55,
     "metadata": {},
     "output_type": "execute_result"
    }
   ],
   "source": [
    "#使第5、6、7位用户也加入ECNU队\n",
    "sql2='''\n",
    "Insert into score (teamid,userid,score) Values\n",
    "(%s,%s,%s)\n",
    "'''\n",
    "data2=[\n",
    "    (1,5,65),\n",
    "    (1,6,99),\n",
    "    (1,7,92)\n",
    "]\n",
    "cursor.executemany(sql2,data2)"
   ]
  },
  {
   "cell_type": "code",
   "execution_count": 56,
   "metadata": {},
   "outputs": [
    {
     "name": "stdout",
     "output_type": "stream",
     "text": [
      "(Decimal('336'),)\n"
     ]
    }
   ],
   "source": [
    "sql ='''\n",
    "Select sum(score)\n",
    "From score,team\n",
    "Where score.teamid=team.id AND team.teamName='ECNU'\n",
    "'''\n",
    "cursor.execute(sql)\n",
    "results= cursor.fetchall()\n",
    "for row in results:\n",
    "    print(row)"
   ]
  },
  {
   "cell_type": "markdown",
   "metadata": {},
   "source": [
    "9. 写出SQL语句，删除user表中个人信息的记录。"
   ]
  },
  {
   "cell_type": "code",
   "execution_count": 60,
   "metadata": {},
   "outputs": [
    {
     "data": {
      "text/plain": [
       "0"
      ]
     },
     "execution_count": 60,
     "metadata": {},
     "output_type": "execute_result"
    }
   ],
   "source": [
    "# 先删除 score 表中相关的记录\n",
    "delete_score_sql = \"DELETE FROM score WHERE userid = %s\"\n",
    "user_id_to_delete = (1,)  # 假设要删除 id 为 1 的用户\n",
    "\n",
    "cursor.execute(delete_score_sql, user_id_to_delete)\n",
    "\n",
    "# 然后删除 user 表中该用户的记录\n",
    "delete_user_sql = \"DELETE FROM user WHERE id = %s\"\n",
    "cursor.execute(delete_user_sql, user_id_to_delete)\n"
   ]
  },
  {
   "cell_type": "code",
   "execution_count": 61,
   "metadata": {},
   "outputs": [
    {
     "name": "stdout",
     "output_type": "stream",
     "text": [
      "(2, 'Jane Smith', 'Female', 31, '987-654-3210')\n",
      "(3, 'Bob Johnson', 'Male', 22, '555-123-4567')\n",
      "(4, 'Han Yue', 'Female', 20, '12312345678')\n",
      "(5, 'Han Yue', 'Male', 15, '123-456-7890')\n",
      "(6, 'Han Yue', 'Female', 18, '137-654-3210')\n",
      "(7, 'Han Yue', 'Male', 22, '195-123-4567')\n"
     ]
    }
   ],
   "source": [
    "sql ='''\n",
    "Select *\n",
    "From user\n",
    "'''\n",
    "cursor.execute(sql)\n",
    "results= cursor.fetchall()\n",
    "for row in results:\n",
    "    print(row)"
   ]
  },
  {
   "cell_type": "markdown",
   "metadata": {},
   "source": [
    "发现id 为 1 的用户在user表中的个人信息已删除。"
   ]
  }
 ],
 "metadata": {
  "kernelspec": {
   "display_name": "Python 3",
   "language": "python",
   "name": "python3"
  },
  "language_info": {
   "codemirror_mode": {
    "name": "ipython",
    "version": 3
   },
   "file_extension": ".py",
   "mimetype": "text/x-python",
   "name": "python",
   "nbconvert_exporter": "python",
   "pygments_lexer": "ipython3",
   "version": "3.8.8"
  }
 },
 "nbformat": 4,
 "nbformat_minor": 2
}
