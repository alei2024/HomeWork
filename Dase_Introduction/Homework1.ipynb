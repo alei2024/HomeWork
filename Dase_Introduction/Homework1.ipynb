{
 "cells": [
  {
   "cell_type": "markdown",
   "metadata": {},
   "source": [
    "1. 编写Python程序，打印\"数据科学与工程导论\"，并使用 print(chr(0x2605)) 语句将这句话包围起来。"
   ]
  },
  {
   "cell_type": "code",
   "execution_count": 2,
   "metadata": {},
   "outputs": [
    {
     "name": "stdout",
     "output_type": "stream",
     "text": [
      "★★★★★★★★★★★\n",
      "★数据科学与工程导论★\n",
      "★★★★★★★★★★★\n"
     ]
    }
   ],
   "source": [
    "print(chr(0x2605)* 11)  \n",
    "print(chr(0x2605)+\"数据科学与工程导论\"+chr(0x2605))  \n",
    "print(chr(0x2605) * 11)"
   ]
  },
  {
   "cell_type": "markdown",
   "metadata": {},
   "source": [
    "2. 写一个 Python 程序，输入 x, y, z 这三个数，将这三个数从小到大使用 print 函数打印出来。"
   ]
  },
  {
   "cell_type": "code",
   "execution_count": 15,
   "metadata": {},
   "outputs": [
    {
     "name": "stdout",
     "output_type": "stream",
     "text": [
      "1 2 3\n"
     ]
    }
   ],
   "source": [
    "x,y,z=map(int,input(\"请输入x, y, z, 以逗号隔开：\").split(','))\n",
    "# 使用冒泡排序算法对三个数进行排序  \n",
    "if x > y:  \n",
    "    x, y = y, x  # 交换 x 和 y  \n",
    "if y > z:  \n",
    "    y, z = z, y  # 交换 y 和 z\n",
    "    if x > y:  \n",
    "        x, y = y, x  # 交换 x 和 z    \n",
    "  \n",
    "# 打印排序后的数  \n",
    "print(x, y, z)"
   ]
  },
  {
   "cell_type": "markdown",
   "metadata": {},
   "source": [
    "3. 写一个 Python 程序，有 w, x, y, z 四个数，将这四个数从大到小使用 print 函数打印出来。"
   ]
  },
  {
   "cell_type": "code",
   "execution_count": 20,
   "metadata": {},
   "outputs": [
    {
     "name": "stdout",
     "output_type": "stream",
     "text": [
      "4  3  2  1  "
     ]
    }
   ],
   "source": [
    "w,x,y,z=map(int,input(\"请输入w,x, y, z, 以逗号隔开：\").split(',')) \n",
    "numbers = [w ,x, y, z]  \n",
    "# 对列表进行排序  \n",
    "numbers=sorted(numbers,reverse=True) \n",
    "# 打印排序后的数  \n",
    "for num in numbers:  \n",
    "    print(f\"{num} \",end=\" \")  "
   ]
  },
  {
   "cell_type": "markdown",
   "metadata": {},
   "source": [
    "4. 写一个 Python 程序，输出 1-100 中的所有奇数。"
   ]
  },
  {
   "cell_type": "code",
   "execution_count": 22,
   "metadata": {},
   "outputs": [
    {
     "name": "stdout",
     "output_type": "stream",
     "text": [
      "1  3  5  7  9  11  13  15  17  19  \n",
      "\n",
      "21  23  25  27  29  31  33  35  37  39  \n",
      "\n",
      "41  43  45  47  49  51  53  55  57  59  \n",
      "\n",
      "61  63  65  67  69  71  73  75  77  79  \n",
      "\n",
      "81  83  85  87  89  91  93  95  97  99  \n",
      "\n"
     ]
    }
   ],
   "source": [
    "count=0\n",
    "for i in range(1,101):\n",
    "    if i%2==1:\n",
    "        print(f\"{i} \",end=\" \")\n",
    "        count+=1\n",
    "    if count%10==0:\n",
    "        print()"
   ]
  },
  {
   "cell_type": "markdown",
   "metadata": {},
   "source": [
    "5. 写一个 Python 程序，用 for 循环，求解 1 到 100 的和。"
   ]
  },
  {
   "cell_type": "code",
   "execution_count": 23,
   "metadata": {},
   "outputs": [
    {
     "name": "stdout",
     "output_type": "stream",
     "text": [
      "5050\n"
     ]
    }
   ],
   "source": [
    "sum=0\n",
    "for i in range(1,101):\n",
    "    sum+=i\n",
    "print(sum)"
   ]
  },
  {
   "cell_type": "markdown",
   "metadata": {},
   "source": [
    "6. 写一个 Python 程序，分别用 for 和 while 循环实现对一个给定序列的倒排序输出。例如，给定 L=[1,2,3,4,5]，输出为 [5,4,3,2,1]。"
   ]
  },
  {
   "cell_type": "code",
   "execution_count": 30,
   "metadata": {},
   "outputs": [
    {
     "name": "stdout",
     "output_type": "stream",
     "text": [
      "for循环实现输出为：\n",
      "5 4 3 2 1 \n",
      "while循环实现输出为：\n",
      "5 4 3 2 1 "
     ]
    }
   ],
   "source": [
    "#for循环\n",
    "def reverse_print_for(L):\n",
    "    for i in range(int(len(L)/2)):\n",
    "        L[i],L[len(L)-1-i]=L[len(L)-1-i],L[i]\n",
    "    return L\n",
    "\n",
    "#while循环\n",
    "def reverse_print_while(L):\n",
    "    j=0\n",
    "    while j<int(len(L)/2):\n",
    "        L[i],L[len(L)-1-i]=L[len(L)-1-i],L[i]\n",
    "        j+=1\n",
    "    return L\n",
    "\n",
    "L=[1,2,3,4,5]\n",
    "L_for=reverse_print_for(L)\n",
    "print(\"for循环实现输出为：\")\n",
    "for i in L_for:\n",
    "    print(i,end=' ')\n",
    "\n",
    "L_while=reverse_print_while(L)\n",
    "print(\"\\nwhile循环实现输出为：\")\n",
    "for i in L_while:\n",
    "    print(i,end=' ')"
   ]
  },
  {
   "cell_type": "markdown",
   "metadata": {},
   "source": [
    "7. 写一个 Python 程序，判断一个输入的字符串 S 是否包含由两个或两个以上连续出现的相同字符组成的字符串。例如，abccccda 中就包含 cccc 这个由 4 个连续字符组成的字符串。"
   ]
  },
  {
   "cell_type": "code",
   "execution_count": 35,
   "metadata": {},
   "outputs": [
    {
     "name": "stdout",
     "output_type": "stream",
     "text": [
      "True\n",
      "4\n"
     ]
    }
   ],
   "source": [
    "def include_consecutive(S):\n",
    "    L=len(S)\n",
    "    for i in range(L - 1):  \n",
    "        if S[i] == S[i + 1]:  \n",
    "            return True\n",
    "    return False\n",
    "def contains_counts(s):  #返回出现两个及以上相同字符次数\n",
    "    L=len(s)\n",
    "    i=0\n",
    "    count=0\n",
    "    # 遍历字符串直到倒数第二个字符  \n",
    "    while i<L-1:  \n",
    "        if s[i] == s[i + 1]:  \n",
    "            # 出现次数+1  \n",
    "            count += 1  \n",
    "            j=2\n",
    "            # 继续向后检查是否还有相同字符  \n",
    "            while i + j < L and s[i] == s[i + j]:  \n",
    "                j += 1  \n",
    "            i=i+j\n",
    "        else:\n",
    "            i+=1\n",
    "    return count \n",
    "S='abccccdaayyii'\n",
    "print(include_consecutive(S))\n",
    "print(contains_counts(S))"
   ]
  },
  {
   "cell_type": "markdown",
   "metadata": {},
   "source": [
    "8. 写一个 Python 程序，输入一个字符串 S，去掉其中所有的空格后输出。例如，“DataScience and Engineering”，去掉空格后为“DataScienceandEngineering”。"
   ]
  },
  {
   "cell_type": "code",
   "execution_count": 40,
   "metadata": {},
   "outputs": [
    {
     "name": "stdout",
     "output_type": "stream",
     "text": [
      "DataScienceandEngineering\n"
     ]
    }
   ],
   "source": [
    "def delete_blank(S):\n",
    "    S1=S.split(\" \")\n",
    "    Rst=''.join(S1)\n",
    "    return Rst\n",
    "S=\"DataScience and Engineering\"\n",
    "print(delete_blank(S))"
   ]
  },
  {
   "cell_type": "markdown",
   "metadata": {},
   "source": [
    "9. 请设计一个求 3 次方根的算法（不允许直接调用求方根的函数），并给出对应的 Python 程序。\n",
    "采用牛顿迭代法求解，迭代过程数学公式表示为：\n",
    "$ x_{n+1}=x_n-\\frac{f(x_n)}{f^{\\prime}(x_n)}$"
   ]
  },
  {
   "cell_type": "code",
   "execution_count": 43,
   "metadata": {},
   "outputs": [
    {
     "name": "stdout",
     "output_type": "stream",
     "text": [
      "The cube root of 8 is approximately 2.0\n"
     ]
    }
   ],
   "source": [
    "def cube_root(a, tol=1e-10, max_iter=100):  \n",
    "    \"\"\"  \n",
    "    参数:  \n",
    "    a：需要求解的目标数（a的3次方根）  \n",
    "    tol：容忍误差，默认为1e-10  \n",
    "    max_iter：最大迭代次数，默认为100  \n",
    "      \n",
    "    返回:  \n",
    "    x：a的三次方根的近似值  \n",
    "    \"\"\"  \n",
    "    if a == 0:  \n",
    "        return 0  \n",
    "    x = a / 2.0  # 初始值\n",
    "    for _ in range(max_iter):  \n",
    "        x_next = (2 * x**3 + a) / (3 * x**2)  \n",
    "        if abs(x_next - x) < tol:  \n",
    "            return x_next  \n",
    "        x = x_next   \n",
    "    # 如果达到最大迭代次数仍未收敛，则返回当前的x作为近似解  \n",
    "    return x  \n",
    "  \n",
    "# 测试函数  \n",
    "if __name__ == \"__main__\":  \n",
    "    a = 8  \n",
    "    root = cube_root(a)  \n",
    "    print(f\"The cube root of {a} is approximately {root}\")"
   ]
  },
  {
   "cell_type": "markdown",
   "metadata": {},
   "source": [
    "10. 写一个 Python 程序，给定一个常数 n（n>0），求 n 的阶乘，即 n!=1×2×...×(n-1)×n。例如，4!=24，5!=120。"
   ]
  },
  {
   "cell_type": "code",
   "execution_count": 41,
   "metadata": {},
   "outputs": [
    {
     "name": "stdout",
     "output_type": "stream",
     "text": [
      "120\n"
     ]
    }
   ],
   "source": [
    "def factorial(n):\n",
    "    rst=1\n",
    "    for i in range(1,n+1):\n",
    "        rst=rst*i\n",
    "    return rst\n",
    "\n",
    "n=5\n",
    "print(factorial(n))"
   ]
  }
 ],
 "metadata": {
  "kernelspec": {
   "display_name": "Python 3",
   "language": "python",
   "name": "python3"
  },
  "language_info": {
   "codemirror_mode": {
    "name": "ipython",
    "version": 3
   },
   "file_extension": ".py",
   "mimetype": "text/x-python",
   "name": "python",
   "nbconvert_exporter": "python",
   "pygments_lexer": "ipython3",
   "version": "3.7.4"
  }
 },
 "nbformat": 4,
 "nbformat_minor": 2
}
