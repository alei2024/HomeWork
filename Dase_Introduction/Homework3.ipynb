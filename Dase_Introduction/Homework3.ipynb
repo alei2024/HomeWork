{
 "cells": [
  {
   "cell_type": "markdown",
   "metadata": {},
   "source": [
    "1.编写 Python程序,判断输入a是否为质数"
   ]
  },
  {
   "cell_type": "code",
   "execution_count": 9,
   "metadata": {},
   "outputs": [
    {
     "name": "stdout",
     "output_type": "stream",
     "text": [
      "2 3 5 7 11 13 17 19 23 29 31 37 "
     ]
    }
   ],
   "source": [
    "from math import *\n",
    "def isPrime(x):\n",
    "    if x<=1:\n",
    "        return False\n",
    "    if x<=3:\n",
    "        return True\n",
    "    for i in range (2,int(sqrt(x))+1):\n",
    "        if x%i==0:\n",
    "            return False\n",
    "    return True\n",
    "\n",
    "for i in range (1,40):\n",
    "    if isPrime(i):\n",
    "        print(i,end=' ')"
   ]
  },
  {
   "cell_type": "markdown",
   "metadata": {},
   "source": [
    "2.用Python实现插入排序该算法，不允许直接调用插入排序函数，需要手动实现其逻辑过程。"
   ]
  },
  {
   "cell_type": "code",
   "execution_count": 10,
   "metadata": {},
   "outputs": [
    {
     "data": {
      "text/plain": [
       "[0, 1, 4, 5, 9]"
      ]
     },
     "execution_count": 10,
     "metadata": {},
     "output_type": "execute_result"
    }
   ],
   "source": [
    "#升序为例\n",
    "def insertsort(L):\n",
    "    lt=len(L)\n",
    "    for i in range(1,lt):\n",
    "        j=i-1\n",
    "        key=L[i]\n",
    "        while j>=0 and L[j]>key:\n",
    "                L[j+1]=L[j]\n",
    "                j-=1\n",
    "        L[j+1]=key\n",
    "    return L\n",
    "\n",
    "L=[5,4,9,0,1]\n",
    "insertsort(L)\n"
   ]
  },
  {
   "cell_type": "markdown",
   "metadata": {},
   "source": [
    "3.用Python实现选择排序该算法，不允许直接调用插入排序函数，需要手动实现其逻辑过程。"
   ]
  },
  {
   "cell_type": "code",
   "execution_count": 28,
   "metadata": {},
   "outputs": [
    {
     "data": {
      "text/plain": [
       "[0, 1, 4, 5, 9]"
      ]
     },
     "execution_count": 28,
     "metadata": {},
     "output_type": "execute_result"
    }
   ],
   "source": [
    "def selectsort(L):\n",
    "    lt=len(L)\n",
    "    for i in range (0,lt-1):#外层循环lt-1次\n",
    "        maxi=0\n",
    "        for j in range(0,lt-i):\n",
    "            if (L[j]>L[maxi]):\n",
    "                maxi=j\n",
    "        t=L[maxi]\n",
    "        L[maxi]=L[lt-i-1]\n",
    "        L[lt-i-1]=t\n",
    "    return L\n",
    "L=[5,4,9,0,1]\n",
    "selectsort(L)"
   ]
  },
  {
   "cell_type": "markdown",
   "metadata": {},
   "source": [
    "4.用Python实现快速排序该算法，不允许直接调用插入排序函数，需要手动实现其逻辑过程。"
   ]
  },
  {
   "cell_type": "code",
   "execution_count": 30,
   "metadata": {},
   "outputs": [
    {
     "data": {
      "text/plain": [
       "[0, 1, 4, 5, 9]"
      ]
     },
     "execution_count": 30,
     "metadata": {},
     "output_type": "execute_result"
    }
   ],
   "source": [
    "def quicksort(arr):  \n",
    "    if len(arr) <= 1:  \n",
    "        return arr  \n",
    "    else:  \n",
    "        lt=len(arr)\n",
    "        # 设置主元为最后元素\n",
    "        pivot = arr[lt-1]  \n",
    "        j=-1\n",
    "        for i in range(0,lt-1):\n",
    "            if arr[i]<=pivot:\n",
    "                j+=1\n",
    "                arr[j],arr[i]=arr[i],arr[j]\n",
    "        arr[j+1],arr[lt-1]=arr[lt-1],arr[j+1]\n",
    "        return quicksort(arr[:j+1])+[pivot]+quicksort(arr[j+2:])\n",
    "'''\n",
    "def quick_sort(arr):  \n",
    "    # 如果数组为空或只有一个元素，则返回数组本身，因为它已经是有序的  \n",
    "    if len(arr) <= 1:  \n",
    "        return arr  \n",
    "    else:  \n",
    "        # 选择一个基准元素（pivot），这里选择数组的第一个元素  \n",
    "        pivot = arr[0]  \n",
    "        # 小于基准元素的子数组  \n",
    "        less_than_pivot = [x for x in arr[1:] if x <= pivot]  \n",
    "        # 大于基准元素的子数组  \n",
    "        greater_than_pivot = [x for x in arr[1:] if x > pivot]  \n",
    "        # 递归地对两个子数组进行排序，并将结果合并  \n",
    "        return quick_sort(less_than_pivot) + [pivot] + quick_sort(greater_than_pivot)  \n",
    "'''\n",
    "    \n",
    "L = [5,4,9,0,1]\n",
    "quicksort(L)  "
   ]
  },
  {
   "cell_type": "markdown",
   "metadata": {},
   "source": [
    "5.使用 Python 随机生成三组长度递增的随机数列，长度分别为100、1000、10000，对生成的随机数组使用不同的排序算法，例如选择排序和归并排序，至少三种排序方法。对这些数列的数据排序，并分析不同排序算法在不同长度数列下的运行效果，例如运行时间等指标。"
   ]
  },
  {
   "cell_type": "code",
   "execution_count": 32,
   "metadata": {},
   "outputs": [
    {
     "name": "stdout",
     "output_type": "stream",
     "text": [
      "数据规模 100\n",
      "选择排序耗时0.000000 seconds\n",
      "排序结果（展示前20条数据）[884, 1628, 1655, 2584, 3646, 3665, 4391, 7228, 7983, 8102, 8751, 8884, 10215, 11392, 15418, 16999, 17455, 19279, 21121, 22278]\n",
      "插入排序耗时0.000000 seconds\n",
      "排序结果（展示前20条数据）[884, 1628, 1655, 2584, 3646, 3665, 4391, 7228, 7983, 8102, 8751, 8884, 10215, 11392, 15418, 16999, 17455, 19279, 21121, 22278]\n",
      "快速排序耗时0.000000 seconds\n",
      "排序结果（展示前20条数据）[884, 1628, 1655, 2584, 3646, 3665, 4391, 7228, 7983, 8102, 8751, 8884, 10215, 11392, 15418, 16999, 17455, 19279, 21121, 22278]\n",
      "--------------------------------------------------------------------------------\n",
      "数据规模 1000\n",
      "选择排序耗时0.034540 seconds\n",
      "排序结果（展示前20条数据）[207, 360, 502, 508, 543, 595, 653, 712, 893, 1010, 1012, 1018, 1539, 1692, 1697, 1830, 1911, 1913, 2242, 2397]\n",
      "插入排序耗时0.025206 seconds\n",
      "排序结果（展示前20条数据）[207, 360, 502, 508, 543, 595, 653, 712, 893, 1010, 1012, 1018, 1539, 1692, 1697, 1830, 1911, 1913, 2242, 2397]\n",
      "快速排序耗时0.000000 seconds\n",
      "排序结果（展示前20条数据）[207, 360, 502, 508, 543, 595, 653, 712, 893, 1010, 1012, 1018, 1539, 1692, 1697, 1830, 1911, 1913, 2242, 2397]\n",
      "--------------------------------------------------------------------------------\n",
      "数据规模 10000\n",
      "选择排序耗时3.252793 seconds\n",
      "排序结果（展示前20条数据）[10, 13, 16, 30, 46, 55, 57, 58, 63, 82, 83, 98, 121, 128, 133, 137, 152, 155, 182, 193]\n",
      "插入排序耗时3.849261 seconds\n",
      "排序结果（展示前20条数据）[10, 13, 16, 30, 46, 55, 57, 58, 63, 82, 83, 98, 121, 128, 133, 137, 152, 155, 182, 193]\n",
      "快速排序耗时0.031241 seconds\n",
      "排序结果（展示前20条数据）[10, 13, 16, 30, 46, 55, 57, 58, 63, 82, 83, 98, 121, 128, 133, 137, 152, 155, 182, 193]\n",
      "--------------------------------------------------------------------------------\n"
     ]
    }
   ],
   "source": [
    "import random\n",
    "import time\n",
    "\n",
    "# 生成随机数列并排序  \n",
    "def generate_and_sort(n):  \n",
    "    random_array = [random.randint(0, 100000) for _ in range(n)]  \n",
    "    print(f\"数据规模 {n}\")  \n",
    "      \n",
    "    # 测量选择排序的运行时间  \n",
    "    start_time = time.time()  \n",
    "    rst1=selectsort(random_array[:])  # 使用[:]来复制数组，避免修改原数组  \n",
    "    select_sort_time = time.time() - start_time  \n",
    "    print(f\"选择排序耗时{select_sort_time:.6f} seconds\")  \n",
    "    print(f\"排序结果（展示前20条数据）{rst1[:20]}\")\n",
    "    \n",
    "    # 测量插入排序的运行时间  \n",
    "    start_time = time.time()  \n",
    "    rst2=insertsort(random_array[:])  # 同样使用[:]来复制数组  \n",
    "    insert_sort_time = time.time() - start_time  \n",
    "    print(f\"插入排序耗时{insert_sort_time:.6f} seconds\")  \n",
    "    print(f\"排序结果（展示前20条数据）{rst2[:20]}\")\n",
    "      \n",
    "    # 测量快速排序的运行时间  \n",
    "    start_time = time.time()  \n",
    "    rst3 = quicksort(random_array[:])  # 快速排序通常不需要修改原数组，但为了一致性还是复制了  \n",
    "    quick_sort_time = time.time() - start_time  \n",
    "    print(f\"快速排序耗时{quick_sort_time:.6f} seconds\")  \n",
    "    print(f\"排序结果（展示前20条数据）{rst3[:20]}\")\n",
    "      \n",
    "    # 验证排序结果（可选）  \n",
    "    assert sorted(random_array)==rst1 == rst2 == rst3, \"Sorting algorithms do not produce the same result!\"  \n",
    "  \n",
    "# 主程序  \n",
    "if __name__ == \"__main__\":  \n",
    "    lengths = [100, 1000, 10000]  \n",
    "    for length in lengths:  \n",
    "        generate_and_sort(length)  \n",
    "        print(\"-\" * 80)  # 分隔线，用于区分不同长度的数组排序结果\n"
   ]
  },
  {
   "cell_type": "markdown",
   "metadata": {},
   "source": [
    "6.使用python代码获取当前系统时间"
   ]
  },
  {
   "cell_type": "code",
   "execution_count": 10,
   "metadata": {},
   "outputs": [
    {
     "name": "stdout",
     "output_type": "stream",
     "text": [
      "当前系统时间是: 2024-10-15 15:17:36\n"
     ]
    }
   ],
   "source": [
    "from datetime import datetime  \n",
    "  \n",
    "# 获取当前系统时间  \n",
    "current_time = datetime.now()  \n",
    "  \n",
    "# 格式化当前时间  \n",
    "formatted_time = current_time.strftime(\"%Y-%m-%d %H:%M:%S\")  \n",
    "  \n",
    "# 输出当前时间  \n",
    "print(\"当前系统时间是:\", formatted_time)"
   ]
  },
  {
   "cell_type": "markdown",
   "metadata": {},
   "source": [
    "7.homework/data文件夹下的stuGrade.csv文件中包含5位同学的学号、语文成绩、数学成绩和英语成绩，请先用记事本打开该文件，查看文件内容，然后编写Python程序，读取该文件，并计算出各科的平均成绩（保留2位小数）。"
   ]
  },
  {
   "cell_type": "code",
   "execution_count": 2,
   "metadata": {},
   "outputs": [
    {
     "name": "stdout",
     "output_type": "stream",
     "text": [
      "语文平均成绩: 82.6\n",
      "数学平均成绩: 81.0\n",
      "英语平均成绩: 81.8\n"
     ]
    }
   ],
   "source": [
    "import csv  \n",
    "  \n",
    "# 定义文件路径  \n",
    "file_path = 'stuGrade.csv'  \n",
    "  \n",
    "# 初始化各科成绩列表  \n",
    "chinese_scores = []  \n",
    "math_scores = []  \n",
    "english_scores = []  \n",
    "  \n",
    "# 读取CSV文件内容  \n",
    "with open(file_path, mode='r', encoding='utf-8') as csvfile:  \n",
    "    csvreader = csv.reader(csvfile)  \n",
    "    # 跳过标题行  \n",
    "    next(csvreader)  \n",
    "    for row in csvreader:  \n",
    "        chinese_scores.append(int(row[1]))  \n",
    "        math_scores.append(int(row[2]))  \n",
    "        english_scores.append(int(row[3]))  \n",
    "  \n",
    "# 计算平均成绩  \n",
    "average_chinese = round(sum(chinese_scores) / len(chinese_scores), 2)  \n",
    "average_math = round(sum(math_scores) / len(math_scores), 2)  \n",
    "average_english = round(sum(english_scores) / len(english_scores), 2)  \n",
    "  \n",
    "# 打印平均成绩  \n",
    "print(f\"语文平均成绩: {average_chinese}\")  \n",
    "print(f\"数学平均成绩: {average_math}\")  \n",
    "print(f\"英语平均成绩: {average_english}\")"
   ]
  },
  {
   "cell_type": "markdown",
   "metadata": {},
   "source": [
    "8.请在第7题的代码继续编写Python程序，将以下内容写入my.txt文件中，一并上传到github中。"
   ]
  },
  {
   "cell_type": "code",
   "execution_count": 4,
   "metadata": {},
   "outputs": [
    {
     "name": "stdout",
     "output_type": "stream",
     "text": [
      "结果已写入 my.txt\n"
     ]
    }
   ],
   "source": [
    "# 定义输出文件路径  \n",
    "output_file_path = 'my.txt'  \n",
    "  \n",
    "# 将结果写入文件  \n",
    "with open(output_file_path, mode='w', encoding='utf-8') as file:  \n",
    "    file.write(f\"语文平均成绩: {average_chinese}\\n\")  \n",
    "    file.write(f\"数学平均成绩: {average_math}\\n\")  \n",
    "    file.write(f\"英语平均成绩: {average_english}\\n\")  \n",
    "  \n",
    "print(f\"结果已写入 {output_file_path}\")"
   ]
  }
 ],
 "metadata": {
  "kernelspec": {
   "display_name": "Python 3",
   "language": "python",
   "name": "python3"
  },
  "language_info": {
   "codemirror_mode": {
    "name": "ipython",
    "version": 3
   },
   "file_extension": ".py",
   "mimetype": "text/x-python",
   "name": "python",
   "nbconvert_exporter": "python",
   "pygments_lexer": "ipython3",
   "version": "3.7.4"
  }
 },
 "nbformat": 4,
 "nbformat_minor": 2
}
